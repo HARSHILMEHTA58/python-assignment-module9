{
  "metadata": {
    "kernelspec": {
      "name": "python",
      "display_name": "Python (Pyodide)",
      "language": "python"
    },
    "language_info": {
      "codemirror_mode": {
        "name": "python",
        "version": 3
      },
      "file_extension": ".py",
      "mimetype": "text/x-python",
      "name": "python",
      "nbconvert_exporter": "python",
      "pygments_lexer": "ipython3",
      "version": "3.8"
    }
  },
  "nbformat_minor": 4,
  "nbformat": 4,
  "cells": [
    {
      "cell_type": "markdown",
      "source": "Genrator in python is special type of function that allow you to create an iterable sequence of values. It return genrator object.",
      "metadata": {}
    },
    {
      "cell_type": "markdown",
      "source": "we can create genrator by using the \"yield\" statement in a function. The yield statement is returns a value from the genrator and suspends function unitl next value requested.",
      "metadata": {}
    },
    {
      "cell_type": "code",
      "source": "def my_gen():\n    for i in range(0,5):\n        yield i ",
      "metadata": {
        "trusted": true
      },
      "outputs": [],
      "execution_count": 4
    },
    {
      "cell_type": "code",
      "source": "mygen = my_gen()\n\nprint(next(mygen))\nprint(next(mygen))\nprint(next(mygen))\nprint(next(mygen))",
      "metadata": {
        "trusted": true
      },
      "outputs": [
        {
          "name": "stdout",
          "text": "0\n1\n2\n3\n",
          "output_type": "stream"
        }
      ],
      "execution_count": 8
    }
  ]
}