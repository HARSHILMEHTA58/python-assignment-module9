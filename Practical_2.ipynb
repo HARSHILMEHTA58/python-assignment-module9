{
  "metadata": {
    "kernelspec": {
      "name": "python",
      "display_name": "Python (Pyodide)",
      "language": "python"
    },
    "language_info": {
      "codemirror_mode": {
        "name": "python",
        "version": 3
      },
      "file_extension": ".py",
      "mimetype": "text/x-python",
      "name": "python",
      "nbconvert_exporter": "python",
      "pygments_lexer": "ipython3",
      "version": "3.8"
    }
  },
  "nbformat_minor": 4,
  "nbformat": 4,
  "cells": [
    {
      "cell_type": "markdown",
      "source": "*args : It is used to pass a variable number of non-keyword arguments to a function.",
      "metadata": {}
    },
    {
      "cell_type": "code",
      "source": "def with_args(*args):\n    print(args)",
      "metadata": {
        "trusted": true
      },
      "outputs": [],
      "execution_count": 6
    },
    {
      "cell_type": "markdown",
      "source": "**kwargs is used to pass a variable number of keyword arguments to a function.",
      "metadata": {}
    },
    {
      "cell_type": "code",
      "source": "def with_kwargs(**kwargs):\n    print(kwargs)",
      "metadata": {
        "trusted": true
      },
      "outputs": [],
      "execution_count": 7
    },
    {
      "cell_type": "code",
      "source": "with_args(1,2,3)\nwith_kwargs(name=\"Harsh\",age=18)",
      "metadata": {
        "trusted": true
      },
      "outputs": [
        {
          "name": "stdout",
          "text": "(1, 2, 3)\n{'name': 'Harsh', 'age': 18}\n",
          "output_type": "stream"
        }
      ],
      "execution_count": 11
    },
    {
      "cell_type": "code",
      "source": "",
      "metadata": {
        "trusted": true
      },
      "outputs": [],
      "execution_count": null
    }
  ]
}